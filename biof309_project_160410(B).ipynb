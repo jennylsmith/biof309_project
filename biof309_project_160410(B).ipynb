{
 "cells": [
  {
   "cell_type": "code",
   "execution_count": 2,
   "metadata": {
    "collapsed": true
   },
   "outputs": [],
   "source": [
    "import numpy\n",
    "import pandas as pd\n",
    "def shared_peaks(list1,list2):\n",
    "    \"\"\"how do I specify list 1 will be a csv file? How can I edit this so that a used can still keep four columns? assign format \"\"\"\n",
    "    peak_list1 = pd.read_csv(list1, header='infer')\n",
    "    peak_list2 = pd.read_csv(list2, header='infer')\n",
    "    shared_peaks = pd.merge(peak_list1, peak_list2, on=['Accession', 'Gene Name', 'Location'], how='inner')\n",
    "    return shared_peaks.to_csv(\"shared_peaks.csv\")\n",
    "\n",
    "##can also open tab delimited text files. use pd.read_csv? for more info on chanign the separator (eg comma seperated file)\n",
    "##can merge all the file and at the end and only save the columns you want, so no wierd unnamed column in the output"
   ]
  },
  {
   "cell_type": "code",
   "execution_count": 3,
   "metadata": {
    "collapsed": false
   },
   "outputs": [],
   "source": [
    "shared_peaks(\"Promoter_PAM.csv\", \"Promoter_SB.csv\")\n",
    "##what is unnamed column?? how can i get rid of it ??"
   ]
  },
  {
   "cell_type": "code",
   "execution_count": 4,
   "metadata": {
    "collapsed": false,
    "scrolled": true
   },
   "outputs": [
    {
     "data": {
      "text/html": [
       "<div>\n",
       "<table border=\"1\" class=\"dataframe\">\n",
       "  <thead>\n",
       "    <tr style=\"text-align: right;\">\n",
       "      <th></th>\n",
       "      <th>Unnamed: 0</th>\n",
       "      <th>Gene Name</th>\n",
       "      <th>Accession</th>\n",
       "      <th>Location</th>\n",
       "      <th>150618_s11_pdox_k27ac_cc_peaks.bed</th>\n",
       "      <th>151007_s08_k4me3_cc_peaks.bed</th>\n",
       "      <th>AllCommonPeaks_pamlive_trackasbase</th>\n",
       "      <th>macs_pam_dlx3_peaks.bed</th>\n",
       "      <th>pam_peak_smad5.bed</th>\n",
       "      <th>dlx3_combined_cc_peaks.bed</th>\n",
       "      <th>k4me3_combined_cc_peaks.bed</th>\n",
       "      <th>k27ac_combined_cc_peaks.bed</th>\n",
       "      <th>sb_peak_smad5_p1.bed</th>\n",
       "    </tr>\n",
       "  </thead>\n",
       "  <tbody>\n",
       "    <tr>\n",
       "      <th>0</th>\n",
       "      <td>0</td>\n",
       "      <td>Dcun1d5</td>\n",
       "      <td>NM_029775</td>\n",
       "      <td>chr9:7184565-7207031</td>\n",
       "      <td>242.42</td>\n",
       "      <td>1439.68</td>\n",
       "      <td>88</td>\n",
       "      <td>62.93</td>\n",
       "      <td>9.55263</td>\n",
       "      <td>147.81</td>\n",
       "      <td>3100.00</td>\n",
       "      <td>399.21</td>\n",
       "      <td>9.55263</td>\n",
       "    </tr>\n",
       "    <tr>\n",
       "      <th>1</th>\n",
       "      <td>1</td>\n",
       "      <td>Vstm5</td>\n",
       "      <td>NM_026955</td>\n",
       "      <td>chr9:15239044-15259413</td>\n",
       "      <td>116.51</td>\n",
       "      <td>131.90</td>\n",
       "      <td>101</td>\n",
       "      <td>86.68</td>\n",
       "      <td>28.65789</td>\n",
       "      <td>176.63</td>\n",
       "      <td>2634.31</td>\n",
       "      <td>115.24</td>\n",
       "      <td>9.55263</td>\n",
       "    </tr>\n",
       "    <tr>\n",
       "      <th>2</th>\n",
       "      <td>2</td>\n",
       "      <td>5830418K08Rik</td>\n",
       "      <td>NM_176976</td>\n",
       "      <td>chr9:15316913-15357788</td>\n",
       "      <td>179.42</td>\n",
       "      <td>844.03</td>\n",
       "      <td>124</td>\n",
       "      <td>224.22</td>\n",
       "      <td>9.55263</td>\n",
       "      <td>597.69</td>\n",
       "      <td>3100.00</td>\n",
       "      <td>128.83</td>\n",
       "      <td>9.55263</td>\n",
       "    </tr>\n",
       "    <tr>\n",
       "      <th>3</th>\n",
       "      <td>3</td>\n",
       "      <td>Chordc1</td>\n",
       "      <td>NM_025844</td>\n",
       "      <td>chr9:18292266-18314000</td>\n",
       "      <td>133.65</td>\n",
       "      <td>1359.35</td>\n",
       "      <td>148</td>\n",
       "      <td>198.57</td>\n",
       "      <td>19.10526</td>\n",
       "      <td>940.17</td>\n",
       "      <td>3100.00</td>\n",
       "      <td>80.96</td>\n",
       "      <td>19.10526</td>\n",
       "    </tr>\n",
       "    <tr>\n",
       "      <th>4</th>\n",
       "      <td>4</td>\n",
       "      <td>Zfp426</td>\n",
       "      <td>NM_001110309</td>\n",
       "      <td>chr9:20468548-20492746</td>\n",
       "      <td>317.41</td>\n",
       "      <td>1848.69</td>\n",
       "      <td>65</td>\n",
       "      <td>198.77</td>\n",
       "      <td>9.55263</td>\n",
       "      <td>132.19</td>\n",
       "      <td>3100.00</td>\n",
       "      <td>268.90</td>\n",
       "      <td>9.55263</td>\n",
       "    </tr>\n",
       "  </tbody>\n",
       "</table>\n",
       "</div>"
      ],
      "text/plain": [
       "   Unnamed: 0      Gene Name     Accession                Location  \\\n",
       "0           0        Dcun1d5     NM_029775    chr9:7184565-7207031   \n",
       "1           1          Vstm5     NM_026955  chr9:15239044-15259413   \n",
       "2           2  5830418K08Rik     NM_176976  chr9:15316913-15357788   \n",
       "3           3        Chordc1     NM_025844  chr9:18292266-18314000   \n",
       "4           4         Zfp426  NM_001110309  chr9:20468548-20492746   \n",
       "\n",
       "   150618_s11_pdox_k27ac_cc_peaks.bed  151007_s08_k4me3_cc_peaks.bed  \\\n",
       "0                              242.42                        1439.68   \n",
       "1                              116.51                         131.90   \n",
       "2                              179.42                         844.03   \n",
       "3                              133.65                        1359.35   \n",
       "4                              317.41                        1848.69   \n",
       "\n",
       "   AllCommonPeaks_pamlive_trackasbase  macs_pam_dlx3_peaks.bed  \\\n",
       "0                                  88                    62.93   \n",
       "1                                 101                    86.68   \n",
       "2                                 124                   224.22   \n",
       "3                                 148                   198.57   \n",
       "4                                  65                   198.77   \n",
       "\n",
       "   pam_peak_smad5.bed  dlx3_combined_cc_peaks.bed  \\\n",
       "0             9.55263                      147.81   \n",
       "1            28.65789                      176.63   \n",
       "2             9.55263                      597.69   \n",
       "3            19.10526                      940.17   \n",
       "4             9.55263                      132.19   \n",
       "\n",
       "   k4me3_combined_cc_peaks.bed  k27ac_combined_cc_peaks.bed  \\\n",
       "0                      3100.00                       399.21   \n",
       "1                      2634.31                       115.24   \n",
       "2                      3100.00                       128.83   \n",
       "3                      3100.00                        80.96   \n",
       "4                      3100.00                       268.90   \n",
       "\n",
       "   sb_peak_smad5_p1.bed  \n",
       "0               9.55263  \n",
       "1               9.55263  \n",
       "2               9.55263  \n",
       "3              19.10526  \n",
       "4               9.55263  "
      ]
     },
     "execution_count": 4,
     "metadata": {},
     "output_type": "execute_result"
    }
   ],
   "source": [
    "shared_pam_sb = pd.read_csv(\"shared_peaks.csv\")\n",
    "shared_pam_sb.head(5)"
   ]
  },
  {
   "cell_type": "code",
   "execution_count": null,
   "metadata": {
    "collapsed": true
   },
   "outputs": [],
   "source": [
    "## I want to include a venn diagram step here using matplot_lib-venn module "
   ]
  },
  {
   "cell_type": "code",
   "execution_count": 5,
   "metadata": {
    "collapsed": false
   },
   "outputs": [],
   "source": [
    "def peak_name_loci(shared_peaks):\n",
    "    peaks = pd.read_csv(\"shared_peaks.csv\", header = 'infer')\n",
    "    peak_loci = peaks[[\"Gene Name\", \"Accession\", \"Location\"]]\n",
    "    return peak_loci.to_csv(\"shared_peaks_loci.csv\")"
   ]
  },
  {
   "cell_type": "code",
   "execution_count": 6,
   "metadata": {
    "collapsed": false
   },
   "outputs": [],
   "source": [
    "peak_name_loci(\"shared_peaks.csv\")"
   ]
  },
  {
   "cell_type": "code",
   "execution_count": 7,
   "metadata": {
    "collapsed": false
   },
   "outputs": [
    {
     "data": {
      "text/html": [
       "<div>\n",
       "<table border=\"1\" class=\"dataframe\">\n",
       "  <thead>\n",
       "    <tr style=\"text-align: right;\">\n",
       "      <th></th>\n",
       "      <th>Unnamed: 0</th>\n",
       "      <th>Gene Name</th>\n",
       "      <th>Accession</th>\n",
       "      <th>Location</th>\n",
       "    </tr>\n",
       "  </thead>\n",
       "  <tbody>\n",
       "    <tr>\n",
       "      <th>0</th>\n",
       "      <td>0</td>\n",
       "      <td>Dcun1d5</td>\n",
       "      <td>NM_029775</td>\n",
       "      <td>chr9:7184565-7207031</td>\n",
       "    </tr>\n",
       "    <tr>\n",
       "      <th>1</th>\n",
       "      <td>1</td>\n",
       "      <td>Vstm5</td>\n",
       "      <td>NM_026955</td>\n",
       "      <td>chr9:15239044-15259413</td>\n",
       "    </tr>\n",
       "    <tr>\n",
       "      <th>2</th>\n",
       "      <td>2</td>\n",
       "      <td>5830418K08Rik</td>\n",
       "      <td>NM_176976</td>\n",
       "      <td>chr9:15316913-15357788</td>\n",
       "    </tr>\n",
       "    <tr>\n",
       "      <th>3</th>\n",
       "      <td>3</td>\n",
       "      <td>Chordc1</td>\n",
       "      <td>NM_025844</td>\n",
       "      <td>chr9:18292266-18314000</td>\n",
       "    </tr>\n",
       "    <tr>\n",
       "      <th>4</th>\n",
       "      <td>4</td>\n",
       "      <td>Zfp426</td>\n",
       "      <td>NM_001110309</td>\n",
       "      <td>chr9:20468548-20492746</td>\n",
       "    </tr>\n",
       "  </tbody>\n",
       "</table>\n",
       "</div>"
      ],
      "text/plain": [
       "   Unnamed: 0      Gene Name     Accession                Location\n",
       "0           0        Dcun1d5     NM_029775    chr9:7184565-7207031\n",
       "1           1          Vstm5     NM_026955  chr9:15239044-15259413\n",
       "2           2  5830418K08Rik     NM_176976  chr9:15316913-15357788\n",
       "3           3        Chordc1     NM_025844  chr9:18292266-18314000\n",
       "4           4         Zfp426  NM_001110309  chr9:20468548-20492746"
      ]
     },
     "execution_count": 7,
     "metadata": {},
     "output_type": "execute_result"
    }
   ],
   "source": [
    "shared_peak_loci = pd.read_csv(\"shared_peaks_loci.csv\")\n",
    "shared_peak_loci.head(5)\n",
    "##How to get rid of these index columns???"
   ]
  },
  {
   "cell_type": "code",
   "execution_count": 8,
   "metadata": {
    "collapsed": true
   },
   "outputs": [],
   "source": [
    "def rename_cols(shared_peaks):    \n",
    "    shared_peaks_loci = pd.read_csv(\"shared_peaks_loci.csv\")\n",
    "    shared_peaks_loci.rename(columns={'Accession':'Transcript', 'Gene Name':'Gene Symbol'}, inplace=True)\n",
    "    return shared_peaks_loci.to_csv(\"shared_peaks_loci.csv\")\n",
    "##is there a way to skip the rename??? see pd.merge\n",
    "##could modify the names in seperate dataframes at the same time and tell it each header for the files types \n",
    "## can rename keys then do merge - do want rename columns consistent\n",
    "##or tell it that the key are equilivant eg gene_name = transcript"
   ]
  },
  {
   "cell_type": "code",
   "execution_count": 9,
   "metadata": {
    "collapsed": false
   },
   "outputs": [],
   "source": [
    "rename_cols(\"shared_peaks_loci.csv\")"
   ]
  },
  {
   "cell_type": "code",
   "execution_count": 10,
   "metadata": {
    "collapsed": false,
    "scrolled": false
   },
   "outputs": [
    {
     "data": {
      "text/html": [
       "<div>\n",
       "<table border=\"1\" class=\"dataframe\">\n",
       "  <thead>\n",
       "    <tr style=\"text-align: right;\">\n",
       "      <th></th>\n",
       "      <th>Unnamed: 0</th>\n",
       "      <th>Unnamed: 0.1</th>\n",
       "      <th>Gene Symbol</th>\n",
       "      <th>Transcript</th>\n",
       "      <th>Location</th>\n",
       "    </tr>\n",
       "  </thead>\n",
       "  <tbody>\n",
       "    <tr>\n",
       "      <th>0</th>\n",
       "      <td>0</td>\n",
       "      <td>0</td>\n",
       "      <td>Dcun1d5</td>\n",
       "      <td>NM_029775</td>\n",
       "      <td>chr9:7184565-7207031</td>\n",
       "    </tr>\n",
       "    <tr>\n",
       "      <th>1</th>\n",
       "      <td>1</td>\n",
       "      <td>1</td>\n",
       "      <td>Vstm5</td>\n",
       "      <td>NM_026955</td>\n",
       "      <td>chr9:15239044-15259413</td>\n",
       "    </tr>\n",
       "    <tr>\n",
       "      <th>2</th>\n",
       "      <td>2</td>\n",
       "      <td>2</td>\n",
       "      <td>5830418K08Rik</td>\n",
       "      <td>NM_176976</td>\n",
       "      <td>chr9:15316913-15357788</td>\n",
       "    </tr>\n",
       "    <tr>\n",
       "      <th>3</th>\n",
       "      <td>3</td>\n",
       "      <td>3</td>\n",
       "      <td>Chordc1</td>\n",
       "      <td>NM_025844</td>\n",
       "      <td>chr9:18292266-18314000</td>\n",
       "    </tr>\n",
       "    <tr>\n",
       "      <th>4</th>\n",
       "      <td>4</td>\n",
       "      <td>4</td>\n",
       "      <td>Zfp426</td>\n",
       "      <td>NM_001110309</td>\n",
       "      <td>chr9:20468548-20492746</td>\n",
       "    </tr>\n",
       "  </tbody>\n",
       "</table>\n",
       "</div>"
      ],
      "text/plain": [
       "   Unnamed: 0  Unnamed: 0.1    Gene Symbol    Transcript  \\\n",
       "0           0             0        Dcun1d5     NM_029775   \n",
       "1           1             1          Vstm5     NM_026955   \n",
       "2           2             2  5830418K08Rik     NM_176976   \n",
       "3           3             3        Chordc1     NM_025844   \n",
       "4           4             4         Zfp426  NM_001110309   \n",
       "\n",
       "                 Location  \n",
       "0    chr9:7184565-7207031  \n",
       "1  chr9:15239044-15259413  \n",
       "2  chr9:15316913-15357788  \n",
       "3  chr9:18292266-18314000  \n",
       "4  chr9:20468548-20492746  "
      ]
     },
     "execution_count": 10,
     "metadata": {},
     "output_type": "execute_result"
    }
   ],
   "source": [
    "name_change = pd.read_csv(\"shared_peaks_loci.csv\")\n",
    "name_change.head(5)\n",
    "##everytime I rerun my cells, I get a new unnamed column"
   ]
  },
  {
   "cell_type": "code",
   "execution_count": 11,
   "metadata": {
    "collapsed": false
   },
   "outputs": [],
   "source": [
    "def rna_seq_rename(rna_seq):\n",
    "    rna_seq = pd.read_csv(\"pam_anova_24h.csv\", header = 'infer')\n",
    "    rna_seq.rename(columns={'p-value(Yes vs. No)':'p-value', 'qvalue(p-value(Yes vs. No))':'q-value','Fold-Change(Yes vs. No)':'fold_change'}, inplace=True)\n",
    "    return rna_seq.to_csv(\"rna_seq_rename.csv\")"
   ]
  },
  {
   "cell_type": "code",
   "execution_count": 12,
   "metadata": {
    "collapsed": true
   },
   "outputs": [],
   "source": [
    "rna_seq_rename(\"pam_anova_24h.csv\")"
   ]
  },
  {
   "cell_type": "code",
   "execution_count": 13,
   "metadata": {
    "collapsed": false
   },
   "outputs": [
    {
     "data": {
      "text/html": [
       "<div>\n",
       "<table border=\"1\" class=\"dataframe\">\n",
       "  <thead>\n",
       "    <tr style=\"text-align: right;\">\n",
       "      <th></th>\n",
       "      <th>Unnamed: 0</th>\n",
       "      <th>Gene Symbol</th>\n",
       "      <th>Transcript</th>\n",
       "      <th>Mean(No)</th>\n",
       "      <th>Mean(Yes)</th>\n",
       "      <th>p-value</th>\n",
       "      <th>q-value</th>\n",
       "      <th>Ratio(Yes vs. No)</th>\n",
       "      <th>fold_change</th>\n",
       "    </tr>\n",
       "  </thead>\n",
       "  <tbody>\n",
       "    <tr>\n",
       "      <th>0</th>\n",
       "      <td>0</td>\n",
       "      <td>Slc26a9</td>\n",
       "      <td>NM_177243</td>\n",
       "      <td>1.45749</td>\n",
       "      <td>-0.752892</td>\n",
       "      <td>5.340000e-09</td>\n",
       "      <td>0.000081</td>\n",
       "      <td>0.216078</td>\n",
       "      <td>-4.62797</td>\n",
       "    </tr>\n",
       "    <tr>\n",
       "      <th>1</th>\n",
       "      <td>1</td>\n",
       "      <td>Fcer2a</td>\n",
       "      <td>NM_001253737</td>\n",
       "      <td>-3.15812</td>\n",
       "      <td>-0.133098</td>\n",
       "      <td>1.030000e-07</td>\n",
       "      <td>0.000519</td>\n",
       "      <td>8.139950</td>\n",
       "      <td>8.13995</td>\n",
       "    </tr>\n",
       "    <tr>\n",
       "      <th>2</th>\n",
       "      <td>2</td>\n",
       "      <td>Flrt2</td>\n",
       "      <td>NM_201518</td>\n",
       "      <td>2.65284</td>\n",
       "      <td>5.140040</td>\n",
       "      <td>1.900000e-07</td>\n",
       "      <td>0.000720</td>\n",
       "      <td>5.606890</td>\n",
       "      <td>5.60689</td>\n",
       "    </tr>\n",
       "    <tr>\n",
       "      <th>3</th>\n",
       "      <td>3</td>\n",
       "      <td>1190002N15Rik</td>\n",
       "      <td>NM_001033145</td>\n",
       "      <td>2.43353</td>\n",
       "      <td>3.084280</td>\n",
       "      <td>2.390000e-07</td>\n",
       "      <td>0.000724</td>\n",
       "      <td>1.569990</td>\n",
       "      <td>1.56999</td>\n",
       "    </tr>\n",
       "    <tr>\n",
       "      <th>4</th>\n",
       "      <td>4</td>\n",
       "      <td>Acer3</td>\n",
       "      <td>NM_025408</td>\n",
       "      <td>3.64083</td>\n",
       "      <td>4.551530</td>\n",
       "      <td>3.240000e-07</td>\n",
       "      <td>0.000778</td>\n",
       "      <td>1.879950</td>\n",
       "      <td>1.87995</td>\n",
       "    </tr>\n",
       "  </tbody>\n",
       "</table>\n",
       "</div>"
      ],
      "text/plain": [
       "   Unnamed: 0    Gene Symbol    Transcript  Mean(No)  Mean(Yes)       p-value  \\\n",
       "0           0        Slc26a9     NM_177243   1.45749  -0.752892  5.340000e-09   \n",
       "1           1         Fcer2a  NM_001253737  -3.15812  -0.133098  1.030000e-07   \n",
       "2           2          Flrt2     NM_201518   2.65284   5.140040  1.900000e-07   \n",
       "3           3  1190002N15Rik  NM_001033145   2.43353   3.084280  2.390000e-07   \n",
       "4           4          Acer3     NM_025408   3.64083   4.551530  3.240000e-07   \n",
       "\n",
       "    q-value  Ratio(Yes vs. No)  fold_change  \n",
       "0  0.000081           0.216078     -4.62797  \n",
       "1  0.000519           8.139950      8.13995  \n",
       "2  0.000720           5.606890      5.60689  \n",
       "3  0.000724           1.569990      1.56999  \n",
       "4  0.000778           1.879950      1.87995  "
      ]
     },
     "execution_count": 13,
     "metadata": {},
     "output_type": "execute_result"
    }
   ],
   "source": [
    "rna_seq_rename = pd.read_csv(\"rna_seq_rename.csv\")\n",
    "rna_seq_rename.head()"
   ]
  },
  {
   "cell_type": "code",
   "execution_count": 14,
   "metadata": {
    "collapsed": true
   },
   "outputs": [],
   "source": [
    "def rna_seq_format(rna_seq):\n",
    "    rna_seq = pd.read_csv(\"rna_seq_rename.csv\", header = 'infer')\n",
    "    rna_seq_format = rna_seq[[\"Gene Symbol\", \"Transcript\", \"p-value\", \"q-value\", \"fold_change\"]]\n",
    "    return rna_seq_format.to_csv(\"rna_seq_format.csv\")"
   ]
  },
  {
   "cell_type": "code",
   "execution_count": 15,
   "metadata": {
    "collapsed": false
   },
   "outputs": [],
   "source": [
    "rna_seq_format(\"rna_seq_rename.csv\")"
   ]
  },
  {
   "cell_type": "code",
   "execution_count": 16,
   "metadata": {
    "collapsed": false
   },
   "outputs": [
    {
     "data": {
      "text/html": [
       "<div>\n",
       "<table border=\"1\" class=\"dataframe\">\n",
       "  <thead>\n",
       "    <tr style=\"text-align: right;\">\n",
       "      <th></th>\n",
       "      <th>Unnamed: 0</th>\n",
       "      <th>Gene Symbol</th>\n",
       "      <th>Transcript</th>\n",
       "      <th>p-value</th>\n",
       "      <th>q-value</th>\n",
       "      <th>fold_change</th>\n",
       "    </tr>\n",
       "  </thead>\n",
       "  <tbody>\n",
       "    <tr>\n",
       "      <th>0</th>\n",
       "      <td>0</td>\n",
       "      <td>Slc26a9</td>\n",
       "      <td>NM_177243</td>\n",
       "      <td>5.340000e-09</td>\n",
       "      <td>0.000081</td>\n",
       "      <td>-4.62797</td>\n",
       "    </tr>\n",
       "    <tr>\n",
       "      <th>1</th>\n",
       "      <td>1</td>\n",
       "      <td>Fcer2a</td>\n",
       "      <td>NM_001253737</td>\n",
       "      <td>1.030000e-07</td>\n",
       "      <td>0.000519</td>\n",
       "      <td>8.13995</td>\n",
       "    </tr>\n",
       "    <tr>\n",
       "      <th>2</th>\n",
       "      <td>2</td>\n",
       "      <td>Flrt2</td>\n",
       "      <td>NM_201518</td>\n",
       "      <td>1.900000e-07</td>\n",
       "      <td>0.000720</td>\n",
       "      <td>5.60689</td>\n",
       "    </tr>\n",
       "    <tr>\n",
       "      <th>3</th>\n",
       "      <td>3</td>\n",
       "      <td>1190002N15Rik</td>\n",
       "      <td>NM_001033145</td>\n",
       "      <td>2.390000e-07</td>\n",
       "      <td>0.000724</td>\n",
       "      <td>1.56999</td>\n",
       "    </tr>\n",
       "    <tr>\n",
       "      <th>4</th>\n",
       "      <td>4</td>\n",
       "      <td>Acer3</td>\n",
       "      <td>NM_025408</td>\n",
       "      <td>3.240000e-07</td>\n",
       "      <td>0.000778</td>\n",
       "      <td>1.87995</td>\n",
       "    </tr>\n",
       "  </tbody>\n",
       "</table>\n",
       "</div>"
      ],
      "text/plain": [
       "   Unnamed: 0    Gene Symbol    Transcript       p-value   q-value  \\\n",
       "0           0        Slc26a9     NM_177243  5.340000e-09  0.000081   \n",
       "1           1         Fcer2a  NM_001253737  1.030000e-07  0.000519   \n",
       "2           2          Flrt2     NM_201518  1.900000e-07  0.000720   \n",
       "3           3  1190002N15Rik  NM_001033145  2.390000e-07  0.000724   \n",
       "4           4          Acer3     NM_025408  3.240000e-07  0.000778   \n",
       "\n",
       "   fold_change  \n",
       "0     -4.62797  \n",
       "1      8.13995  \n",
       "2      5.60689  \n",
       "3      1.56999  \n",
       "4      1.87995  "
      ]
     },
     "execution_count": 16,
     "metadata": {},
     "output_type": "execute_result"
    }
   ],
   "source": [
    "rna_seq_format = pd.read_csv(\"rna_seq_format.csv\")\n",
    "rna_seq_format.head()"
   ]
  },
  {
   "cell_type": "raw",
   "metadata": {
    "collapsed": true
   },
   "source": []
  },
  {
   "cell_type": "code",
   "execution_count": 27,
   "metadata": {
    "collapsed": true
   },
   "outputs": [],
   "source": [
    "def peaks_DEG(shared_peaks, rna_seq):\n",
    "    \"\"\"how do I get this to automatically use the output from shared_peaks function??\"\"\"\n",
    "    shared_peaks = pd.read_csv(\"shared_peaks_loci.csv\", header = 'infer')\n",
    "    rna_seq = pd.read_csv(\"rna_seq_format.csv\", header = 'infer')\n",
    "    peaks_DEG = pd.merge(left=shared_peaks, right=rna_seq, left_on=\"Transcript\", right_on=\"Transcript\", how='inner')\n",
    "    return peaks_DEG.to_csv(\"peaks_DEG.csv\")\n",
    "\n",
    "#peaks_DEG = pd.merge(left=shared_peaks, right=rna_seq, left_on=\"Accession\", right_on=\"Transcript\")\n",
    "#I also use \"shared_peaks\" more than once!! check on this"
   ]
  },
  {
   "cell_type": "code",
   "execution_count": 28,
   "metadata": {
    "collapsed": false
   },
   "outputs": [],
   "source": [
    "peaks_DEG(\"shared_peaks_loci.csv\", \"rna_seq_format.csv\")"
   ]
  },
  {
   "cell_type": "code",
   "execution_count": 29,
   "metadata": {
    "collapsed": false,
    "scrolled": true
   },
   "outputs": [
    {
     "data": {
      "text/html": [
       "<div>\n",
       "<table border=\"1\" class=\"dataframe\">\n",
       "  <thead>\n",
       "    <tr style=\"text-align: right;\">\n",
       "      <th></th>\n",
       "      <th>Unnamed: 0</th>\n",
       "      <th>Unnamed: 0_x</th>\n",
       "      <th>Unnamed: 0.1</th>\n",
       "      <th>Gene Symbol_x</th>\n",
       "      <th>Transcript</th>\n",
       "      <th>Location</th>\n",
       "      <th>Unnamed: 0_y</th>\n",
       "      <th>Gene Symbol_y</th>\n",
       "      <th>p-value</th>\n",
       "      <th>q-value</th>\n",
       "      <th>fold_change</th>\n",
       "    </tr>\n",
       "  </thead>\n",
       "  <tbody>\n",
       "    <tr>\n",
       "      <th>0</th>\n",
       "      <td>0</td>\n",
       "      <td>1</td>\n",
       "      <td>1</td>\n",
       "      <td>Vstm5</td>\n",
       "      <td>NM_026955</td>\n",
       "      <td>chr9:15239044-15259413</td>\n",
       "      <td>466</td>\n",
       "      <td>Vstm5</td>\n",
       "      <td>0.001384</td>\n",
       "      <td>0.011859</td>\n",
       "      <td>1.67290</td>\n",
       "    </tr>\n",
       "    <tr>\n",
       "      <th>1</th>\n",
       "      <td>1</td>\n",
       "      <td>26</td>\n",
       "      <td>26</td>\n",
       "      <td>Ets1</td>\n",
       "      <td>NM_011808</td>\n",
       "      <td>chr9:32696041-32757820</td>\n",
       "      <td>596</td>\n",
       "      <td>Ets1</td>\n",
       "      <td>0.003686</td>\n",
       "      <td>0.020162</td>\n",
       "      <td>-1.50357</td>\n",
       "    </tr>\n",
       "    <tr>\n",
       "      <th>2</th>\n",
       "      <td>2</td>\n",
       "      <td>27</td>\n",
       "      <td>27</td>\n",
       "      <td>Ets1</td>\n",
       "      <td>NM_001038642</td>\n",
       "      <td>chr9:32696041-32757820</td>\n",
       "      <td>968</td>\n",
       "      <td>Ets1</td>\n",
       "      <td>0.048222</td>\n",
       "      <td>0.099001</td>\n",
       "      <td>-1.66244</td>\n",
       "    </tr>\n",
       "    <tr>\n",
       "      <th>3</th>\n",
       "      <td>3</td>\n",
       "      <td>50</td>\n",
       "      <td>50</td>\n",
       "      <td>Gtf2a2</td>\n",
       "      <td>NM_001282084</td>\n",
       "      <td>chr9:70012547-70022866</td>\n",
       "      <td>783</td>\n",
       "      <td>Gtf2a2</td>\n",
       "      <td>0.013103</td>\n",
       "      <td>0.042283</td>\n",
       "      <td>-1.95089</td>\n",
       "    </tr>\n",
       "    <tr>\n",
       "      <th>4</th>\n",
       "      <td>4</td>\n",
       "      <td>53</td>\n",
       "      <td>53</td>\n",
       "      <td>Gtf2a2</td>\n",
       "      <td>NM_001282083</td>\n",
       "      <td>chr9:70012547-70022866</td>\n",
       "      <td>923</td>\n",
       "      <td>Gtf2a2</td>\n",
       "      <td>0.035344</td>\n",
       "      <td>0.080851</td>\n",
       "      <td>-1.51764</td>\n",
       "    </tr>\n",
       "  </tbody>\n",
       "</table>\n",
       "</div>"
      ],
      "text/plain": [
       "   Unnamed: 0  Unnamed: 0_x  Unnamed: 0.1 Gene Symbol_x    Transcript  \\\n",
       "0           0             1             1         Vstm5     NM_026955   \n",
       "1           1            26            26          Ets1     NM_011808   \n",
       "2           2            27            27          Ets1  NM_001038642   \n",
       "3           3            50            50        Gtf2a2  NM_001282084   \n",
       "4           4            53            53        Gtf2a2  NM_001282083   \n",
       "\n",
       "                 Location  Unnamed: 0_y Gene Symbol_y   p-value   q-value  \\\n",
       "0  chr9:15239044-15259413           466         Vstm5  0.001384  0.011859   \n",
       "1  chr9:32696041-32757820           596          Ets1  0.003686  0.020162   \n",
       "2  chr9:32696041-32757820           968          Ets1  0.048222  0.099001   \n",
       "3  chr9:70012547-70022866           783        Gtf2a2  0.013103  0.042283   \n",
       "4  chr9:70012547-70022866           923        Gtf2a2  0.035344  0.080851   \n",
       "\n",
       "   fold_change  \n",
       "0      1.67290  \n",
       "1     -1.50357  \n",
       "2     -1.66244  \n",
       "3     -1.95089  \n",
       "4     -1.51764  "
      ]
     },
     "execution_count": 29,
     "metadata": {},
     "output_type": "execute_result"
    }
   ],
   "source": [
    "peaks_DEG_out = pd.read_csv(\"peaks_DEG.csv\")\n",
    "peaks_DEG_out.head()"
   ]
  },
  {
   "cell_type": "code",
   "execution_count": null,
   "metadata": {
    "collapsed": true
   },
   "outputs": [],
   "source": [
    "##docs merge method possibly try outer for these! this will merge the files so that includees not only those peaks that have \n",
    "##filled values like nan and then remove those rows possible. or group the data by another column "
   ]
  },
  {
   "cell_type": "code",
   "execution_count": null,
   "metadata": {
    "collapsed": true
   },
   "outputs": [],
   "source": [
    "##so to combine these 5 function, must run the prior cells. but have one cell that calls the 5 functions at the end \n",
    "##see if this produces the output desired \n",
    "##to run in command line, you can download as .py script and it"
   ]
  },
  {
   "cell_type": "code",
   "execution_count": null,
   "metadata": {
    "collapsed": true
   },
   "outputs": [],
   "source": []
  }
 ],
 "metadata": {
  "kernelspec": {
   "display_name": "Python 3",
   "language": "python",
   "name": "python3"
  },
  "language_info": {
   "codemirror_mode": {
    "name": "ipython",
    "version": 3
   },
   "file_extension": ".py",
   "mimetype": "text/x-python",
   "name": "python",
   "nbconvert_exporter": "python",
   "pygments_lexer": "ipython3",
   "version": "3.5.1"
  }
 },
 "nbformat": 4,
 "nbformat_minor": 0
}
